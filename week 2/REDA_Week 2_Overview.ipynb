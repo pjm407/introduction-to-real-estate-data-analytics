{
 "cells": [
  {
   "cell_type": "markdown",
   "metadata": {},
   "source": [
    "# REDA1-CE1000: Introduction to Real Estate Data Analytics"
   ]
  },
  {
   "cell_type": "markdown",
   "metadata": {},
   "source": [
    "## Week 2: Foundational Concepts, Part 1\n",
    "\n",
    "\n",
    "\n",
    "### Probability and Statistics\n",
    "\n",
    "\n",
    "\n",
    "### Hypothesis Testing"
   ]
  },
  {
   "cell_type": "markdown",
   "metadata": {},
   "source": [
    "### Purpose\n",
    "* This lecture introduces you to important concepts that allow us to operationalize ideas in data analytics, such as **probability distributions** and **data generating processes**.\n",
    "    * **We will build these ideas be constructed from two exhibits from a prominent textbook in Real Estate Finance**.\n",
    "    * We will distinguish between *probability theory* and *applied statistics*.  \n",
    "    * Ideally, this lecture will provide you greater grounding in empirical finance.\n",
    "\n",
    "\n",
    "\n",
    "* In turn, we deploy a logically-consistent method to explore conjectures about the world using data and algorithms.\n",
    "\n",
    "\n",
    "\n",
    "* Painful but **necessary**.\n",
    "    * We should pay respect for the considerable history that has brought us here.\n",
    "    * **And these ideas should complement your understanding of real estate finance.**"
   ]
  },
  {
   "cell_type": "markdown",
   "metadata": {},
   "source": [
    "### The Role of the Conjecture\n",
    "\n",
    "\n",
    "\n",
    "#### The Bernanke Conjecture: A Global Savings Glut\n",
    "\n",
    "\n",
    "\n",
    "* [Ben Bernanke, Ph.D. takes over from Alan Greenspan, Ph.D. in 2006](https://en.wikipedia.org/wiki/Chair_of_the_Federal_Reserve).\n",
    "\n",
    "\n",
    "\n",
    "* Chairman Bernanke conjectured that a **global savings glut** limited his abiility to address a housing bubble in the U.S. because the relationship between short- and long-term interest rates had broken down.\n",
    "    * **Liquidity Preference Theory** or **Expectations Theory**.\n",
    "    * But at its core, this is an empirical claim.\n",
    "    * One that could have been explored at the time it was made.\n",
    "    \n",
    "\n",
    "\n",
    "#### An Election Conjecture: Thought Leadership\n",
    "\n",
    "\n",
    "\n",
    "* Many **CRE** professionals claimed that long-duration rates would rise after the 2016 U.S. presidential election.\n",
    "    * One Senior Economic Advisor said that rates would be \"back above 5%\".\n",
    "    * This was deemed at the time to be **thought leadership**.\n",
    "    * The expressed concern was a potential impact on cap rates.\n",
    "    * A simple examination of data **at the time** would have suggested the likelihood was low."
   ]
  },
  {
   "cell_type": "markdown",
   "metadata": {},
   "source": [
    "We will now take a detour to lay the foundation of statistics. We will return to these conjectures next week and examine them again though a framework of statistical hypothesis testing."
   ]
  },
  {
   "cell_type": "markdown",
   "metadata": {},
   "source": [
    "## Credits"
   ]
  },
  {
   "cell_type": "markdown",
   "metadata": {},
   "source": [
    "This notebook is based on materials developed by Timothy H. Savage. Used with permission.\n",
    "\n",
    "https://github.com/thsavage"
   ]
  }
 ],
 "metadata": {
  "kernelspec": {
   "display_name": "Python 3",
   "language": "python",
   "name": "python3"
  },
  "language_info": {
   "codemirror_mode": {
    "name": "ipython",
    "version": 3
   },
   "file_extension": ".py",
   "mimetype": "text/x-python",
   "name": "python",
   "nbconvert_exporter": "python",
   "pygments_lexer": "ipython3",
   "version": "3.7.7"
  }
 },
 "nbformat": 4,
 "nbformat_minor": 2
}
